{
 "cells": [
  {
   "cell_type": "code",
   "execution_count": null,
   "metadata": {},
   "outputs": [],
   "source": [
    "from HSL import Visualization"
   ]
  },
  {
   "cell_type": "code",
   "execution_count": null,
   "metadata": {},
   "outputs": [],
   "source": [
    "# Run in order to split video into frames\n",
    "#Utilities.video_to_frames(\"./output.mp4\", \"./frames/\")"
   ]
  },
  {
   "cell_type": "code",
   "execution_count": null,
   "metadata": {},
   "outputs": [],
   "source": [
    "# Run PCA to visualize the distribution of the handshapes\n",
    "Visualization.visualization(\"json_directory/\", \"frame_directory/\").pca"
   ]
  },
  {
   "cell_type": "code",
   "execution_count": null,
   "metadata": {},
   "outputs": [],
   "source": [
    "# Run elbow technique to determine the number of clusters for k means\n",
    "Visualization.visualization(\"json_directory/\", \"frame_directory/\", elbow_range=40).elbow_method"
   ]
  },
  {
   "cell_type": "code",
   "execution_count": null,
   "metadata": {},
   "outputs": [],
   "source": [
    "# Visualize the k means clustering\n",
    "Visualization.visualization(\"json_directory/\", \"frame_directory/\", range_n_clusters=12).visualize_kmeans"
   ]
  },
  {
   "cell_type": "code",
   "execution_count": null,
   "metadata": {},
   "outputs": [],
   "source": [
    "# Analyze the performance of k means with different range of clusters\n",
    "Visualization.visualization(\"json_directory/\", \"frame_directory/\", range_n_clusters=[10,12,14]).silhouette_analysis"
   ]
  },
  {
   "cell_type": "code",
   "execution_count": null,
   "metadata": {},
   "outputs": [],
   "source": [
    "# Create video the predicted clusters as overlays\n",
    "from HSL import Annotations\n",
    "Annotations.annotate(\"json_directory/\", \"frame_directory/\", range_n_clusters = 4).video"
   ]
  }
 ],
 "metadata": {
  "kernelspec": {
   "display_name": "Python 3",
   "language": "python",
   "name": "python3"
  },
  "language_info": {
   "codemirror_mode": {
    "name": "ipython",
    "version": 3
   },
   "file_extension": ".py",
   "mimetype": "text/x-python",
   "name": "python",
   "nbconvert_exporter": "python",
   "pygments_lexer": "ipython3",
   "version": "3.5.6"
  }
 },
 "nbformat": 4,
 "nbformat_minor": 2
}
